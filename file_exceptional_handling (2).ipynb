{
  "nbformat": 4,
  "nbformat_minor": 0,
  "metadata": {
    "colab": {
      "provenance": []
    },
    "kernelspec": {
      "name": "python3",
      "display_name": "Python 3"
    },
    "language_info": {
      "name": "python"
    }
  },
  "cells": [
    {
      "cell_type": "markdown",
      "source": [
        "Q1. what is the difference between interpreted and compiled languages?\n",
        "\n",
        "ans>> The main difference between compiled and interpreted languages lies in how the source code is executed. Compiled languages are translated into machine code (or bytecode) once, before runtime, by a compiler, and the resulting executable can be run directly by the computer. Interpreted languages, on the other hand, are executed line by line by an interpreter at runtime."
      ],
      "metadata": {
        "id": "VPNjilWkBEin"
      }
    },
    {
      "cell_type": "markdown",
      "source": [
        "Q2. What is exception handling in python?\n",
        "\n",
        "\n",
        "ans>> Exception handling in Python is a mechanism used to manage and respond to runtime errors or unexpected events that occur during the execution of a program. These events, known as exceptions, disrupt the normal flow of the program and, if unhandled, can cause the program to crash or terminate abruptly.\n",
        "\n",
        ">Python provides a structured way to handle these exceptions using try, except, else, and finally blocks:"
      ],
      "metadata": {
        "id": "Z7DqT6UlBgjY"
      }
    },
    {
      "cell_type": "markdown",
      "source": [
        "Q3. What is the purpose of the finally block in exception handling?\n",
        "\n",
        "ans>> The finally block in exception handling ensures that a specific block of code is executed, regardless of whether an exception is thrown or caught within the try block. Its primary purpose is to provide a mechanism for resource cleanup and guaranteeing the execution of essential code, such as closing files or releasing network connection."
      ],
      "metadata": {
        "id": "vZEChxuTBghA"
      }
    },
    {
      "cell_type": "markdown",
      "source": [
        "Q4. what is logging in pyhton?\n",
        "\n",
        "ans >> n Python, \"logging\" refers to the process of recording events that occur during the execution of a program. It involves using the built-in logging module to generate messages that provide information about the program's state, potential issues, or significant events"
      ],
      "metadata": {
        "id": "ESZYm4nxBgep"
      }
    },
    {
      "cell_type": "markdown",
      "source": [
        "Q5. what is the significance of ht __del__ method in python?\n",
        "\n",
        "ans>> The __del__ method in Python, often referred to as a destructor, holds significance primarily for resource cleanup when an object is about to be destroyed.\n",
        "\n",
        ">The __del__ method is automatically invoked by Python when an object is garbage collected, meaning when its reference count drops to zero and no more references point to it."
      ],
      "metadata": {
        "id": "-7CGzHpABgcK"
      }
    },
    {
      "cell_type": "markdown",
      "source": [
        "Q6. what is the difference between import and from... inport in python?\n",
        "\n",
        "\n",
        "ans>> import module_name:\n",
        "This statement imports the entire module_name into the current namespace.\n",
        "To access any function, class, or variable within that module, you must use the dot notation, e.g., module_name.function_name().\n",
        "This approach helps prevent naming conflicts as all imported elements are clearly associated with their original module.\n",
        "\n",
        "\n",
        "from module_name import object_name or from module_name import *:\n",
        "This statement imports specific object_name (e.g., a function, class, or variable) directly into the current namespace, or in the case of from module_name import *, it imports all public objects from the module into the current namespace.\n",
        "The imported objects can then be used directly without needing to prefix them with the module name.\n",
        "While convenient for brevity, importing all objects with * can lead to namespace pollution and potential naming conflicts if multiple modules define objects with the same name."
      ],
      "metadata": {
        "id": "5OwZ9ShSBgZ0"
      }
    },
    {
      "cell_type": "markdown",
      "source": [
        "Q7. how can you handle multiple exception in python?\n",
        "\n",
        "ans>> In Python, multiple exceptions can be handled within a try-except block using two primary methods: multiple except clauses.\n",
        "This approach involves adding separate except blocks for each specific exception type you want to handle. Python will check these except blocks in order, executing the first one that matches the raised exception. This allows for different handling logic for distinct error conditions.\n",
        "Python\n",
        "\n",
        "    try:\n",
        "        # Code that might raise exceptions\n",
        "        value = int(\"abc\")  # This will raise a ValueError\n",
        "        result = 10 / 0     # This will raise a ZeroDivisionError\n",
        "    except ValueError:\n",
        "        print(\"Caught a ValueError: Invalid input for integer conversion.\")\n",
        "    except ZeroDivisionError:\n",
        "        print(\"Caught a ZeroDivisionError: Cannot divide by zero.\")\n",
        "    except Exception as e: # Catching a more general exception for others\n",
        "        print(f\"An unexpected error occurred: {e}\")\n",
        "Single except clause with a tuple of exceptions:\n",
        "When multiple exceptions require the same handling logic, they can be grouped into a tuple within a single except clause. This makes the code more concise.\n",
        "Python\n",
        "\n",
        "    try:\n",
        "        # Code that might raise exceptions\n",
        "        data = [1, 2, 3]\n",
        "        index = int(input(\"Enter an index: \"))\n",
        "        print(data[index] / 0) # Could raise IndexError or ZeroDivisionError\n",
        "    except (IndexError, ZeroDivisionError) as e:\n",
        "        print(f\"Caught an error: {e}. Please check the index or division operation.\")\n",
        "Important Considerations:\n",
        "Order of except clauses:\n",
        "When using multiple except clauses, place more specific exception types before more general ones (e.g., ValueError before Exception). This ensures that the specific handler is executed when applicable.\n",
        "Avoid bare except:\n",
        "While except: (without specifying an exception type) will catch all exceptions, it is generally discouraged as it can mask unexpected errors and make debugging difficult. Always strive to catch specific exceptions or a well-defined hierarchy of exceptions.\n",
        "Logging:\n",
        "In production environments, it is crucial to log detailed error information within your except blocks to aid in debugging and monitoring.\n"
      ],
      "metadata": {
        "id": "eWL3AVxvBgV5"
      }
    },
    {
      "cell_type": "markdown",
      "source": [
        "Q8.What is the purpose of the with statement when handling files in Python?\n",
        "\n",
        "ans>> The primary purpose of the with statement when handling files in Python is to ensure proper resource management, specifically guaranteeing that files are automatically closed after their use, even if errors or exceptions occur during file operations.\n",
        "This is achieved through the use of context managers. The open() function, when used with with, acts as a context manager."
      ],
      "metadata": {
        "id": "0NbEOPYFBgS5"
      }
    },
    {
      "cell_type": "markdown",
      "source": [
        "Q9.  What is the difference between multithreading and multiprocessing?\n",
        "\n",
        "\n",
        "ans>> Multithreading:\n",
        "Concurrency within a single process:\n",
        "Multithreading involves creating multiple threads within a single Python process. These threads share the same memory space and resources of the parent process.\n",
        "Global Interpreter Lock (GIL):\n",
        "Python's GIL is a mutex that prevents multiple native threads from executing Python bytecodes at once. This means that even on multi-core processors, only one thread can actively execute Python code at any given time, limiting true parallelism for CPU-bound tasks.\n",
        "\n",
        ">Multiprocessing:\n",
        "True Parallelism:\n",
        "Multiprocessing involves creating separate, independent processes. Each process has its own memory space and its own Python interpreter instance, including its own GIL. This allows for true parallel execution across multiple CPU cores, bypassing the GIL limitation.\n",
        "Suitable for CPU-bound tasks:\n",
        "Multiprocessing is ideal for tasks that are computationally intensive (CPU-bound tasks) and can benefit from being distributed across multiple cores, such as complex calculations or data processing"
      ],
      "metadata": {
        "id": "1A6pRGAGBgQd"
      }
    },
    {
      "cell_type": "markdown",
      "source": [
        "Q10.  What are the advantages of using logging in a program?\n",
        "\n",
        "ans>> Logging offers several advantages in program development and operation, including improved debugging, performance monitoring, security enhancement, and better understanding of application behavior. By providing a detailed record of events, including errors and warnings, logging allows developers to quickly identify and resolve issues, optimize application performance, and gain insights into user interactions"
      ],
      "metadata": {
        "id": "cUBHUI0_BgOA"
      }
    },
    {
      "cell_type": "markdown",
      "source": [
        "Q11.  What is memory management in Python?\n",
        "\n",
        "ans>> Memory management in Python refers to the system that handles the allocation and deallocation of memory resources used by Python programs. Unlike languages like C or C++, where developers often manage memory manually, Python provides automatic memory management, simplifying the development process."
      ],
      "metadata": {
        "id": "JyxUrzNJBgLa"
      }
    },
    {
      "cell_type": "markdown",
      "source": [
        "Q12. What are the basic steps involved in exception handling in Python?\n",
        "\n",
        "ans>> he basic steps involved in exception handling in Python using try, except, else, and finally blocks are as follows:\n",
        "try Block:\n",
        "Place the code that might potentially raise an exception within the try block. Python will attempt to execute this code.\n",
        "\n",
        "\n",
        ">except Block(s):\n",
        "If an exception occurs within the try block, execution immediately jumps to the corresponding except block.\n",
        "You can have multiple except blocks to handle different types of exceptions specifically. The first except block that matches the raised exception type will be executed.\n",
        "A general except block (e.g., except Exception as e:) can be used to catch any exception not caught by more specific except blocks."
      ],
      "metadata": {
        "id": "s6XjJGpXBgJJ"
      }
    },
    {
      "cell_type": "markdown",
      "source": [
        "Q13.  Why is memory management important in Python?\n",
        "\n",
        "ANS>>  Memory management is important in Python, as in any programming language, to ensure efficient resource utilization and program stability. While Python handles memory management automatically, understanding its principles is crucial for writing optimized and robust applications."
      ],
      "metadata": {
        "id": "vCtApUtYBgGc"
      }
    },
    {
      "cell_type": "markdown",
      "source": [
        "Q14. What is the role of try and except in exception handling?\n",
        "\n",
        "ans>> In Python, the try and except statements are fundamental for exception handling, which allows a program to gracefully manage errors that occur during execution. The try block encloses code that might raise an exception, while the except block contains code to handle the exception if it occurs. This prevents the program from abruptly crashing and allows it to continue running, potentially with alternative actions or informative messages."
      ],
      "metadata": {
        "id": "V6LZEdFmBgEM"
      }
    },
    {
      "cell_type": "markdown",
      "source": [
        "Q15. How does Python's garbage collection system works?\n",
        "\n",
        "ans>> Python's garbage collection system automatically reclaims memory occupied by objects that are no longer in use, preventing memory leaks. It primarily uses a hybrid approach combining reference counting and a cyclic garbage collector. Reference counting tracks the number of references to an object, and when it reaches zero, the object is immediately deallocated. The cyclic garbage collector handles circular references where objects refer to each other, preventing them from being deallocated by reference counting alone."
      ],
      "metadata": {
        "id": "cfCPYNlaBgBu"
      }
    },
    {
      "cell_type": "markdown",
      "source": [
        "Q16. What is the purpose of the else block in exception handling?\n",
        "\n",
        "ans>> The else block in exception handling, specifically within a try-except structure, is designed to execute code only when no exceptions are raised within the corresponding try block. It acts as a conditional block that runs when the try block executes successfully without any errors."
      ],
      "metadata": {
        "id": "voEBb5pLBf_f"
      }
    },
    {
      "cell_type": "markdown",
      "source": [
        "Q17. What are the common logging levels in Python?\n",
        "\n",
        "\n",
        "\n",
        "ANS>> Python's built-in logging module defines several standard logging levels, each indicating the severity of an event. These levels, from lowest to highest severity, are:\n",
        "DEBUG (10):\n",
        "Provides detailed information, typically useful only when diagnosing problems or during development.\n",
        "INFO (20):\n",
        "Confirms that things are working as expected and provides general information about the program's flow.\n",
        "WARNING (30):"
      ],
      "metadata": {
        "id": "Kxbv9h50Bf2P"
      }
    },
    {
      "cell_type": "markdown",
      "source": [
        "Q18. What is the difference between os.fork() and multiprocessing in Python\n",
        "\n",
        "ans>> The os.fork() function and the multiprocessing module in Python both enable the creation of new processes, but they differ significantly in their level of abstraction, portability, and intended use.\n",
        "\n",
        "\n",
        ">os.fork():\n",
        "This is a low-level system call available only on POSIX-compliant systems (Unix-like operating systems). It directly creates a child process that is an almost exact copy of the parent process, including its memory space, open file descriptors, and environment variables, at the moment of the fork. This offers fine-grained control but requires careful handling of shared resources and potential issues with multi-threaded processes.\n",
        "\n",
        ">multiprocessing module:\n",
        "This is a higher-level, more abstract module built on top of os.fork() (or spawn/forkserver on other platforms like Windows and macOS). It provides a more user-friendly interface for managing processes, including features for inter-process communication (queues, pipes), synchronization (locks, semaphores), and data sharing (shared memory)."
      ],
      "metadata": {
        "id": "x3Zd-tqzStql"
      }
    },
    {
      "cell_type": "markdown",
      "source": [
        "  Q19. What is the importance of closing a file in Python?\n",
        "\n",
        "  ans>>  Closing a file in Python after use is crucial for several reasons:\n",
        "Resource Management:\n",
        "Opening a file consumes system resources, including memory and file handles. Failing to close files can lead to resource leaks, where these resources remain allocated even after the program no longer needs them. This can eventually lead to performance issues, system instability, or even program crashes, especially in long-running applications or those handling many files.\n",
        "\n",
        "\n",
        "Data Integrity:\n",
        "When writing data to a file, Python often buffers the data in memory before writing it to the physical disk. Closing the file explicitly flushes these buffers, ensuring that all written data is committed to the file. If a program terminates unexpectedly without closing the file, unwritten data in the buffer may be lost, leading to incomplete or corrupted files.\n",
        "\n",
        "File Locking and Access:\n",
        "Operating systems often implement file locking mechanisms to prevent multiple processes from simultaneously modifying the same file, which could lead to data corruption. Closing a file releases any locks held on it, allowing other processes or users to access and modify the file."
      ],
      "metadata": {
        "id": "gdn40kZjStnz"
      }
    },
    {
      "cell_type": "markdown",
      "source": [
        "Q20. What is the difference between file.read() and file.readline() in Python?\n",
        "\n",
        "ans>> In Python, file.read() and file.readline() are methods used to read data from a file object, but they differ in how much data they retrieve:\n",
        "file.read([size]):\n",
        "Reads the entire content of the file as a single string if size is omitted or negative.\n",
        "If a size argument is provided, it reads at most size bytes (or characters in text mode) from the file.\n",
        "Returns an empty string if the end of the file (EOF) is reached immediately.\n",
        "\n",
        ">file.readline([size]):\n",
        "Reads a single line from the file, including the newline character (\\n) at the end, and returns it as a string.\n",
        "If a size argument is provided, it reads at most size bytes from the line, stopping at the end of the line or after size bytes, whichever comes first.\n",
        "Returns an empty string if the end of the file (EOF) is encountered and no more lines are available."
      ],
      "metadata": {
        "id": "yf5S8iRGStlO"
      }
    },
    {
      "cell_type": "markdown",
      "source": [
        "Q21. What is the logging module in Python used for?\n",
        "\n",
        "ans>> The logging module in Python is used to track events and messages during program execution, facilitating debugging, error tracking, and monitoring application behavior. It provides a structured and flexible way to record information, offering different severity levels (DEBUG, INFO, WARNING, ERROR, CRITICAL) and the ability to direct logs to various destinations like files, databases, or external services.\n"
      ],
      "metadata": {
        "id": "9rR8LF14StVr"
      }
    },
    {
      "cell_type": "markdown",
      "source": [
        "Q22.  What is the os module in Python used for in file handling?\n",
        "\n",
        "ANS>> The Python OS module is essential for file-related tasks, enabling efficient file and directory management in programs. It allows you to easily handle the current working directory, create and delete directories, list files and folders, and perform file operations."
      ],
      "metadata": {
        "id": "IjbbD2Q6StIF"
      }
    },
    {
      "cell_type": "markdown",
      "source": [
        "Q23. What are the challenges associated with memory management in Python?\n",
        "\n",
        "\n",
        "ans>> Memory Leaks from Circular References:\n",
        "Python's primary memory management mechanism is reference counting. When objects form circular references (e.g., Object A references Object B, and Object B references Object A), their reference counts may never drop to zero, preventing them from being deallocated by reference counting alone. This can lead to memory leaks where unreachable objects remain in memory. Python's generational garbage collector addresses this by detecting and collecting these cycles, but it adds complexity and potential performance overhead."
      ],
      "metadata": {
        "id": "nKIcD1MTUyvi"
      }
    },
    {
      "cell_type": "markdown",
      "source": [
        "  Q24.  How do you raise an exception manually in Python?\n",
        "\n",
        "\n",
        "  ans>> In Python, the raise keyword is used to manually raise an exception. This allows for explicit error handling and program control when specific conditions are met within the code.\n",
        "\n",
        "  Explanation:\n",
        "raise: This keyword initiates the exception-raising process.\n",
        "ExceptionType: This specifies the type of exception to be raised. It can be a built-in exception class (e.g., ValueError, TypeError, ZeroDivisionError, Exception) or a custom exception class defined by the user.\n",
        "\"Optional error message\": An optional string argument that provides a descriptive message about the error, which can be helpful for debugging.\n"
      ],
      "metadata": {
        "id": "Aw_5EtUfVFt9"
      }
    },
    {
      "cell_type": "markdown",
      "source": [
        "Q25. Why is it important to use multithreading in certain applications?\n",
        "\n",
        "ANS>> Multithreading is important for applications where multiple tasks need to be performed concurrently, enhancing performance, responsiveness, and resource utilization. It allows applications to handle multiple operations simultaneously, making them more efficient and user-friendly.\n",
        "\n",
        "\n"
      ],
      "metadata": {
        "id": "4eytLDaBVc2v"
      }
    },
    {
      "cell_type": "markdown",
      "source": [
        "Q1. How can you open a file for writing in python and wirte a string to it?"
      ],
      "metadata": {
        "id": "H2V48b9xkhrj"
      }
    },
    {
      "cell_type": "code",
      "execution_count": 43,
      "metadata": {
        "id": "OstQRXt5kBu4"
      },
      "outputs": [],
      "source": [
        "file = open(\"file.txt\", \"w\")"
      ]
    },
    {
      "cell_type": "code",
      "source": [
        "content = file.write(\"hi ! i am madhuri\\n\")\n",
        "content = file.write(\"i live in india,jharkhand\\n\")\n",
        "content = file.write(\"i am a student\")"
      ],
      "metadata": {
        "id": "8WEiejsslY6v"
      },
      "execution_count": 44,
      "outputs": []
    },
    {
      "cell_type": "code",
      "source": [
        "file.close()"
      ],
      "metadata": {
        "id": "Szh8wcwUmxkT"
      },
      "execution_count": 45,
      "outputs": []
    },
    {
      "cell_type": "markdown",
      "source": [
        "Q2. Write a python program to read the contents of a file and print each line."
      ],
      "metadata": {
        "id": "Nu5Wpkx0mZW0"
      }
    },
    {
      "cell_type": "code",
      "source": [
        "file = open(\"file.txt\", \"r\")"
      ],
      "metadata": {
        "id": "e5uauOd9lvmq"
      },
      "execution_count": 46,
      "outputs": []
    },
    {
      "cell_type": "code",
      "source": [
        "file1 = file.read()"
      ],
      "metadata": {
        "id": "IAv0m3ELmRoV"
      },
      "execution_count": 47,
      "outputs": []
    },
    {
      "cell_type": "code",
      "source": [
        "print(file1)"
      ],
      "metadata": {
        "colab": {
          "base_uri": "https://localhost:8080/"
        },
        "id": "xCiEsRtwnEPH",
        "outputId": "ce60c7fb-5518-4a2f-eb69-50b2690fb023"
      },
      "execution_count": 48,
      "outputs": [
        {
          "output_type": "stream",
          "name": "stdout",
          "text": [
            "hi ! i am madhuri\n",
            "i live in india,jharkhand\n",
            "i am a student\n"
          ]
        }
      ]
    },
    {
      "cell_type": "code",
      "source": [
        "#How would you handle a case where the file doesn't exist while trying to open it for reading?"
      ],
      "metadata": {
        "id": "dMohJSIdnItS"
      },
      "execution_count": null,
      "outputs": []
    },
    {
      "cell_type": "code",
      "source": [
        "try:\n",
        "  file = open(\"file3.txt\", \"r\")\n",
        "except FileNotFoundError:\n",
        "  print(\"file not found\")"
      ],
      "metadata": {
        "colab": {
          "base_uri": "https://localhost:8080/"
        },
        "id": "4lQHaSv-oLt7",
        "outputId": "be40aead-4391-4f76-9452-1a0d00c421ae"
      },
      "execution_count": 49,
      "outputs": [
        {
          "output_type": "stream",
          "name": "stdout",
          "text": [
            "file not found\n"
          ]
        }
      ]
    },
    {
      "cell_type": "code",
      "source": [
        "#write a python script that reads from one file and wirtes it comtent to another file."
      ],
      "metadata": {
        "id": "7b5QwOfmqX8s"
      },
      "execution_count": null,
      "outputs": []
    },
    {
      "cell_type": "code",
      "source": [
        "file1 = open(\"file.txt\", \"r\")\n",
        "content = file1.read()\n",
        "file2 = open(\"file2.txt\", \"w\")\n",
        "file2.write(content)"
      ],
      "metadata": {
        "colab": {
          "base_uri": "https://localhost:8080/"
        },
        "id": "tbGM2kharjJZ",
        "outputId": "692ec6a1-ebf7-42d8-e9e5-47a89f748508"
      },
      "execution_count": 50,
      "outputs": [
        {
          "output_type": "execute_result",
          "data": {
            "text/plain": [
              "58"
            ]
          },
          "metadata": {},
          "execution_count": 50
        }
      ]
    },
    {
      "cell_type": "code",
      "source": [
        "print(content)"
      ],
      "metadata": {
        "colab": {
          "base_uri": "https://localhost:8080/"
        },
        "id": "m8B0yDy8r9D_",
        "outputId": "f940b6b9-42d5-4222-cc21-d5508c3ce2df"
      },
      "execution_count": 51,
      "outputs": [
        {
          "output_type": "stream",
          "name": "stdout",
          "text": [
            "hi ! i am madhuri\n",
            "i live in india,jharkhand\n",
            "i am a student\n"
          ]
        }
      ]
    },
    {
      "cell_type": "code",
      "source": [
        "#how would you catch and handle division by zero error in python ?"
      ],
      "metadata": {
        "id": "WLk3Oj8KsA9t"
      },
      "execution_count": null,
      "outputs": []
    },
    {
      "cell_type": "code",
      "source": [
        "try:\n",
        "  a = 10/0\n",
        "except ZeroDivisionError:\n",
        "  print(\"division by zero error\")\n"
      ],
      "metadata": {
        "colab": {
          "base_uri": "https://localhost:8080/"
        },
        "id": "oTkkDev7sZ-z",
        "outputId": "78b3f859-95f3-4f5e-92e1-ee40900fc831"
      },
      "execution_count": 52,
      "outputs": [
        {
          "output_type": "stream",
          "name": "stdout",
          "text": [
            "division by zero error\n"
          ]
        }
      ]
    },
    {
      "cell_type": "code",
      "source": [
        "#write a python program that logs an error message to a log file when a division by zero exception occurs."
      ],
      "metadata": {
        "id": "CThxixu6tPdt"
      },
      "execution_count": null,
      "outputs": []
    },
    {
      "cell_type": "code",
      "source": [
        "def divide_nums():\n",
        "  try:\n",
        "    num = int(input(\"enter a numrator\"))\n",
        "    den = int(input(\"enter a denomerator\"))\n",
        "    result = num/den\n",
        "    print(result)\n",
        "  except ZeroDivisionError:\n",
        "    print(\"division by zero error\")\n",
        "divide_nums()"
      ],
      "metadata": {
        "colab": {
          "base_uri": "https://localhost:8080/"
        },
        "id": "bXXt4JVIt-Ir",
        "outputId": "0840e3d0-64e7-41b3-b7b2-646310b257c7"
      },
      "execution_count": 53,
      "outputs": [
        {
          "output_type": "stream",
          "name": "stdout",
          "text": [
            "enter a numrator56\n",
            "enter a denomerator22\n",
            "2.5454545454545454\n"
          ]
        }
      ]
    },
    {
      "cell_type": "code",
      "source": [
        "#How would you log information at different levels(INFO,ERROR,WARNING) in python  using the logging module?"
      ],
      "metadata": {
        "id": "dOUNPglOv8Aa"
      },
      "execution_count": 54,
      "outputs": []
    },
    {
      "cell_type": "code",
      "source": [],
      "metadata": {
        "id": "JV_iJkgz0IT-"
      },
      "execution_count": null,
      "outputs": []
    },
    {
      "cell_type": "code",
      "source": [
        "#write a program to handle a file opening error using exception handling."
      ],
      "metadata": {
        "id": "2Qkuv0A30JTd"
      },
      "execution_count": null,
      "outputs": []
    },
    {
      "cell_type": "code",
      "source": [
        "try:\n",
        "  file = open(\"file.txt\", \"r\")\n",
        "except FileNotFoundError:\n",
        "  print(\"file not found\")"
      ],
      "metadata": {
        "id": "_EafaRr7w2WI"
      },
      "execution_count": 55,
      "outputs": []
    },
    {
      "cell_type": "code",
      "source": [
        "#how can you read  a file line by line and store its content in a list in python?"
      ],
      "metadata": {
        "id": "BekgyvkE0Gck"
      },
      "execution_count": null,
      "outputs": []
    },
    {
      "cell_type": "code",
      "source": [
        "with open(\"file.txt\", \"r\") as file:\n",
        "  lines = file.readlines()\n",
        "  print(lines)"
      ],
      "metadata": {
        "colab": {
          "base_uri": "https://localhost:8080/"
        },
        "id": "XTU7i4PQ04fm",
        "outputId": "862b3ad8-10e6-482c-b0c1-684f035f1a9b"
      },
      "execution_count": 56,
      "outputs": [
        {
          "output_type": "stream",
          "name": "stdout",
          "text": [
            "['hi ! i am madhuri\\n', 'i live in india,jharkhand\\n', 'i am a student']\n"
          ]
        }
      ]
    },
    {
      "cell_type": "code",
      "source": [
        "#How can you append data  to an existing file in python?"
      ],
      "metadata": {
        "id": "wvYfAVlp2Vct"
      },
      "execution_count": null,
      "outputs": []
    },
    {
      "cell_type": "code",
      "source": [
        "file = open(\"file.txt\", \"a\")"
      ],
      "metadata": {
        "id": "6ara6XBb1ryV"
      },
      "execution_count": 57,
      "outputs": []
    },
    {
      "cell_type": "code",
      "source": [
        "file.write(\"i am learning DA\")"
      ],
      "metadata": {
        "colab": {
          "base_uri": "https://localhost:8080/"
        },
        "id": "DJ_yl3zw2m8s",
        "outputId": "17cc2412-8d58-4e41-8849-d9efe54a9d27"
      },
      "execution_count": 58,
      "outputs": [
        {
          "output_type": "execute_result",
          "data": {
            "text/plain": [
              "16"
            ]
          },
          "metadata": {},
          "execution_count": 58
        }
      ]
    },
    {
      "cell_type": "code",
      "source": [
        "file.close()"
      ],
      "metadata": {
        "id": "hlo-cjOh23Wp"
      },
      "execution_count": 59,
      "outputs": []
    },
    {
      "cell_type": "code",
      "source": [
        "file = open(\"file.txt\",\"r\")"
      ],
      "metadata": {
        "id": "veTzJuLz28Yl"
      },
      "execution_count": 60,
      "outputs": []
    },
    {
      "cell_type": "code",
      "source": [
        "content = file.read()"
      ],
      "metadata": {
        "id": "KCeZ7Luv3dd0"
      },
      "execution_count": 61,
      "outputs": []
    },
    {
      "cell_type": "code",
      "source": [
        "print(content)"
      ],
      "metadata": {
        "colab": {
          "base_uri": "https://localhost:8080/"
        },
        "id": "MdPXLXzV3kYO",
        "outputId": "c54b346b-bc09-4889-8f28-c8b2adbb5e50"
      },
      "execution_count": 62,
      "outputs": [
        {
          "output_type": "stream",
          "name": "stdout",
          "text": [
            "hi ! i am madhuri\n",
            "i live in india,jharkhand\n",
            "i am a studenti am learning DA\n"
          ]
        }
      ]
    },
    {
      "cell_type": "code",
      "source": [
        "#write a python program that uses a try -except block to handle an error when attempting to access a dictonary key that doesn't exist."
      ],
      "metadata": {
        "id": "weI4YAWv3nuX"
      },
      "execution_count": null,
      "outputs": []
    },
    {
      "cell_type": "code",
      "source": [
        "# Create a sample dictionary\n",
        "my_dict = {\"name\": \"madhuri\", \"age\": 21, \"city\": \"jharkhand\"}\n",
        "\n",
        "# Attempt to access a key that exists\n",
        "try:\n",
        "    print(f\"Name: {my_dict['name']}\")\n",
        "except KeyError:\n",
        "    print(\"Error: The 'name' key does not exist in the dictionary.\")\n",
        "\n",
        "\n",
        "try:\n",
        "    print(f\"Email: {my_dict['email']}\")\n",
        "except KeyError:\n",
        "    print(\"Error: The 'email' key does not exist in the dictionary.\")\n",
        "\n",
        "print(\"Program continues after handling the error.\")\n"
      ],
      "metadata": {
        "colab": {
          "base_uri": "https://localhost:8080/"
        },
        "id": "O-UKWQ_b4ap8",
        "outputId": "901a66e1-7d4a-4ca4-8608-2972054bbfcf"
      },
      "execution_count": 63,
      "outputs": [
        {
          "output_type": "stream",
          "name": "stdout",
          "text": [
            "Name: madhuri\n",
            "Error: The 'email' key does not exist in the dictionary.\n",
            "Program continues after handling the error.\n"
          ]
        }
      ]
    },
    {
      "cell_type": "code",
      "source": [
        "#write a program that demonstrate using multiple except blocks to handle the different types of exceptions."
      ],
      "metadata": {
        "id": "_tarCV8q61Xy"
      },
      "execution_count": null,
      "outputs": []
    },
    {
      "cell_type": "code",
      "source": [
        "def perform_calculations():\n",
        "    try:\n",
        "\n",
        "        num1 = int(input(\"Enter the first number: \"))\n",
        "        num2 = int(input(\"Enter the second number: \"))\n",
        "\n",
        "\n",
        "        result = num1 / num2\n",
        "        print(f\"The result of division is: {result}\")\n",
        "\n",
        "\n",
        "        invalid_operation = \"hello\" + num1\n",
        "        print(f\"This line will not be reached if TypeError occurs: {invalid_operation}\")\n",
        "\n",
        "    except ZeroDivisionError:\n",
        "        print(\"Error: Cannot divide by zero. Please enter a non-zero second number.\")\n",
        "    except ValueError:\n",
        "        print(\"Error: Invalid input. Please enter valid integers for both numbers.\")\n",
        "    except TypeError:\n",
        "        print(\"Error: An incompatible type operation occurred.\")\n",
        "    except Exception as e:\n",
        "\n",
        "        print(f\"An unexpected error occurred: {e}\")\n",
        "    finally:\n",
        "        print(\"Calculation attempt finished.\")\n",
        "\n",
        "perform_calculations()"
      ],
      "metadata": {
        "colab": {
          "base_uri": "https://localhost:8080/"
        },
        "id": "APQ9trD67rYI",
        "outputId": "7203848d-2105-4929-8b5c-903108b8668f"
      },
      "execution_count": 64,
      "outputs": [
        {
          "output_type": "stream",
          "name": "stdout",
          "text": [
            "Enter the first number: 56\n",
            "Enter the second number: 41\n",
            "The result of division is: 1.3658536585365855\n",
            "Error: An incompatible type operation occurred.\n",
            "Calculation attempt finished.\n"
          ]
        }
      ]
    },
    {
      "cell_type": "code",
      "source": [
        "#How woluld you check if a file exists before attempting to read it in python?"
      ],
      "metadata": {
        "id": "2uYSjQ-H8IN7"
      },
      "execution_count": null,
      "outputs": []
    },
    {
      "cell_type": "code",
      "source": [
        " import os\n",
        " print(os.path.exists(\"file.txt\"))"
      ],
      "metadata": {
        "colab": {
          "base_uri": "https://localhost:8080/"
        },
        "id": "QprR_uwx8m-i",
        "outputId": "3a361693-5ab5-4aea-e6f9-06f0a80580bc"
      },
      "execution_count": 65,
      "outputs": [
        {
          "output_type": "stream",
          "name": "stdout",
          "text": [
            "True\n"
          ]
        }
      ]
    },
    {
      "cell_type": "code",
      "source": [
        "#write a program that uses the logging module to log both information and error message."
      ],
      "metadata": {
        "id": "6u5y9Rms9jRx"
      },
      "execution_count": null,
      "outputs": []
    },
    {
      "cell_type": "code",
      "source": [
        "import logging\n",
        "\n",
        "\n",
        "logger = logging.getLogger(__name__)\n",
        "logger.setLevel(logging.INFO)\n",
        "\n",
        "\n",
        "file_handler = logging.FileHandler('application.log')\n",
        "file_handler.setLevel(logging.DEBUG)\n",
        "\n",
        "\n",
        "formatter = logging.Formatter('%(asctime)s - %(name)s - %(levelname)s - %(message)s')\n",
        "file_handler.setFormatter(formatter)\n",
        "\n",
        "\n",
        "logger.addHandler(file_handler)\n",
        "\n",
        "\n",
        "logger.info(\"This is an informational message indicating successful operation.\")\n",
        "\n",
        "try:\n",
        "    result = 10 / 0\n",
        "except ZeroDivisionError as e:\n",
        "    logger.error(f\"An error occurred: {e}\", exc_info=True)"
      ],
      "metadata": {
        "colab": {
          "base_uri": "https://localhost:8080/"
        },
        "id": "kjpjhMvRwCyu",
        "outputId": "26c6362c-b9b3-41c0-9d60-3f81ad025665"
      },
      "execution_count": 66,
      "outputs": [
        {
          "output_type": "stream",
          "name": "stderr",
          "text": [
            "INFO:__main__:This is an informational message indicating successful operation.\n",
            "ERROR:__main__:An error occurred: division by zero\n",
            "Traceback (most recent call last):\n",
            "  File \"/tmp/ipython-input-619602850.py\", line 22, in <cell line: 0>\n",
            "    result = 10 / 0\n",
            "             ~~~^~~\n",
            "ZeroDivisionError: division by zero\n"
          ]
        }
      ]
    },
    {
      "cell_type": "code",
      "source": [
        "#write a program that print the content of a file and handles the case when the file is empty."
      ],
      "metadata": {
        "id": "s1Fgoq5_w-1S"
      },
      "execution_count": null,
      "outputs": []
    },
    {
      "cell_type": "code",
      "source": [
        "def print_file_content(file_path):\n",
        "  try:\n",
        "    with open(\"file.txt\", \"r\") as file:\n",
        "      content = file.read()\n",
        "      if content:\n",
        "        print(content)\n",
        "      else:\n",
        "        print(\"file is empty\")\n",
        "  except FileNotFoundError:\n",
        "    print(\"file not found\")\n",
        "\n",
        "print(print_file_content(\"file.txt\"))\n"
      ],
      "metadata": {
        "colab": {
          "base_uri": "https://localhost:8080/"
        },
        "id": "FEt06A3Ux54b",
        "outputId": "8292a3b0-b7a0-4a2c-91ee-b19ae1af8528"
      },
      "execution_count": 67,
      "outputs": [
        {
          "output_type": "stream",
          "name": "stdout",
          "text": [
            "hi ! i am madhuri\n",
            "i live in india,jharkhand\n",
            "i am a studenti am learning DA\n",
            "None\n"
          ]
        }
      ]
    },
    {
      "cell_type": "code",
      "source": [
        "#Demonstrate how to check memeory profiling to check the memory usage of a small program."
      ],
      "metadata": {
        "id": "BJTxyDBgztE2"
      },
      "execution_count": null,
      "outputs": []
    },
    {
      "cell_type": "code",
      "source": [
        "import sys\n",
        "o1 = ['apple','banana','cherry']\n",
        "o2 = 6299072972\n",
        "o3 = ('obj', (object),{'name': 'madhuri'})\n",
        "\n",
        "print(sys.getsizeof(o1))\n",
        "print(sys.getsizeof(o2))\n",
        "print(sys.getsizeof(o3))"
      ],
      "metadata": {
        "colab": {
          "base_uri": "https://localhost:8080/"
        },
        "id": "oCn0XSd81Vpd",
        "outputId": "cef9a1e9-3dd9-4419-8df4-08730138e817"
      },
      "execution_count": 68,
      "outputs": [
        {
          "output_type": "stream",
          "name": "stdout",
          "text": [
            "88\n",
            "32\n",
            "64\n"
          ]
        }
      ]
    },
    {
      "cell_type": "code",
      "source": [
        "#write a python program to create and write a list of numbers to a file, one number per line."
      ],
      "metadata": {
        "id": "5JW2AC012NFx"
      },
      "execution_count": null,
      "outputs": []
    },
    {
      "cell_type": "code",
      "source": [
        "def write_numbers_to_file(filename, numbers):\n",
        "\n",
        "\n",
        "    try:\n",
        "        with open(filename, 'w') as file:\n",
        "            for number in numbers:\n",
        "                file.write(str(number) + '\\n')\n",
        "        print(f\"Numbers successfully written to {filename}\")\n",
        "    except IOError as e:\n",
        "        print(f\"Error writing to file: {e}\")\n",
        "\n",
        "\n",
        "if __name__ == \"__main__\":\n",
        "    my_numbers = [10, 25, 30, 45, 60, 75, 90]\n",
        "    output_file = \"numbers_list.txt\"\n",
        "    write_numbers_to_file(output_file, my_numbers)\n",
        "\n",
        "\n",
        "    generated_numbers = list(range(1, 11))\n",
        "    generated_output_file = \"generated_numbers.txt\"\n",
        "    write_numbers_to_file(generated_output_file, generated_numbers)\n",
        "    print(\"Program execution completed.\")"
      ],
      "metadata": {
        "colab": {
          "base_uri": "https://localhost:8080/"
        },
        "id": "ZVgY2IPu2une",
        "outputId": "0e54ccbf-9500-463f-fe93-b919dc5869ec"
      },
      "execution_count": 69,
      "outputs": [
        {
          "output_type": "stream",
          "name": "stdout",
          "text": [
            "Numbers successfully written to numbers_list.txt\n",
            "Numbers successfully written to generated_numbers.txt\n",
            "Program execution completed.\n"
          ]
        }
      ]
    },
    {
      "cell_type": "code",
      "source": [
        "#how would you implement a basic logging setup that logs to a file with rotation after 1MB?"
      ],
      "metadata": {
        "id": "eTw-CJtU3jRy"
      },
      "execution_count": null,
      "outputs": []
    },
    {
      "cell_type": "code",
      "source": [
        "import logging\n",
        "from logging.handlers import RotatingFileHandler\n",
        "\n",
        "def setup_rotating_logger(log_file_name=\"app.log\", max_bytes=1024*1024, backup_count=5):\n",
        "\n",
        "\n",
        "\n",
        "    logger = logging.getLogger(__name__)\n",
        "    logger.setLevel(logging.INFO)\n",
        "\n",
        "\n",
        "    handler = RotatingFileHandler(\n",
        "        log_file_name,\n",
        "        maxBytes=max_bytes,\n",
        "        backupCount=backup_count\n",
        "    )\n",
        "\n",
        "\n",
        "    formatter = logging.Formatter('%(asctime)s - %(name)s - %(levelname)s - %(message)s')\n",
        "    handler.setFormatter(formatter)\n",
        "\n",
        "\n",
        "    logger.addHandler(handler)\n",
        "\n",
        "    return logger\n",
        "\n",
        "if __name__ == \"__main__\":\n",
        "\n",
        "    my_logger = setup_rotating_logger()\n",
        "\n",
        "\n",
        "    my_logger.info(\"This is an informational message.\")\n",
        "    my_logger.warning(\"This is a warning message.\")\n",
        "    my_logger.error(\"This is an error message.\")\n",
        "\n",
        "\n",
        "    for i in range(100000):\n",
        "        my_logger.debug(f\"Writing line {i} to the log file.\")"
      ],
      "metadata": {
        "colab": {
          "base_uri": "https://localhost:8080/"
        },
        "id": "-gbf-VbI4Knl",
        "outputId": "82357757-53a6-4a33-997c-c285ed091da9"
      },
      "execution_count": 70,
      "outputs": [
        {
          "output_type": "stream",
          "name": "stderr",
          "text": [
            "INFO:__main__:This is an informational message.\n",
            "WARNING:__main__:This is a warning message.\n",
            "ERROR:__main__:This is an error message.\n"
          ]
        }
      ]
    },
    {
      "cell_type": "code",
      "source": [
        "#write a program that handles both index error and keyerror using a try-except block."
      ],
      "metadata": {
        "id": "DpOKOmXl5pLf"
      },
      "execution_count": null,
      "outputs": []
    },
    {
      "cell_type": "code",
      "source": [
        "def handle_errors(data_list, data_dict, list_index, dict_key):\n",
        "\n",
        "\n",
        "    try:\n",
        "        # Attempt to access an element from the list\n",
        "        list_value = data_list[list_index]\n",
        "        print(f\"Accessed list element at index {list_index}: {list_value}\")\n",
        "\n",
        "        # Attempt to access an element from the dictionary\n",
        "        dict_value = data_dict[dict_key]\n",
        "        print(f\"Accessed dictionary element with key '{dict_key}': {dict_value}\")\n",
        "\n",
        "    except IndexError:\n",
        "        print(f\"Error: IndexError occurred! Index {list_index} is out of bounds for the list.\")\n",
        "    except KeyError:\n",
        "        print(f\"Error: KeyError occurred! Key '{dict_key}' not found in the dictionary.\")\n",
        "    except Exception as e:\n",
        "\n",
        "        print(f\"An unexpected error occurred: {e}\")\n",
        "\n",
        "my_list = [10, 20, 30]\n",
        "my_dict = {\"name\": \"madhuri\", \"age\": 21}\n",
        "\n",
        "print(\"--- Scenario 1: No errors ---\")\n",
        "handle_errors(my_list, my_dict, 1, \"name\")\n",
        "\n",
        "print(\"\\n--- Scenario 2: IndexError ---\")\n",
        "handle_errors(my_list, my_dict, 5, \"age\")\n",
        "\n",
        "print(\"\\n--- Scenario 3: KeyError ---\")\n",
        "handle_errors(my_list, my_dict, 0, \"city\")\n",
        "\n",
        "print(\"\\n--- Scenario 4: Both errors (only the first encountered will be handled) ---\")\n",
        "handle_errors(my_list, my_dict, 5, \"city\")"
      ],
      "metadata": {
        "colab": {
          "base_uri": "https://localhost:8080/"
        },
        "id": "TEKqIF_U6KBC",
        "outputId": "6f1b7cda-3a65-41ce-fcae-14ddc4e0e473"
      },
      "execution_count": 71,
      "outputs": [
        {
          "output_type": "stream",
          "name": "stdout",
          "text": [
            "--- Scenario 1: No errors ---\n",
            "Accessed list element at index 1: 20\n",
            "Accessed dictionary element with key 'name': madhuri\n",
            "\n",
            "--- Scenario 2: IndexError ---\n",
            "Error: IndexError occurred! Index 5 is out of bounds for the list.\n",
            "\n",
            "--- Scenario 3: KeyError ---\n",
            "Accessed list element at index 0: 10\n",
            "Error: KeyError occurred! Key 'city' not found in the dictionary.\n",
            "\n",
            "--- Scenario 4: Both errors (only the first encountered will be handled) ---\n",
            "Error: IndexError occurred! Index 5 is out of bounds for the list.\n"
          ]
        }
      ]
    },
    {
      "cell_type": "code",
      "source": [
        "#how woluld you open a file and read its content using a context manager in python?"
      ],
      "metadata": {
        "id": "m2FiXlvi6wLT"
      },
      "execution_count": null,
      "outputs": []
    },
    {
      "cell_type": "code",
      "source": [
        "with open('file.txt','r') as file:\n",
        "  content = file.read()\n",
        "  print(content)\n",
        "print(file.close)"
      ],
      "metadata": {
        "colab": {
          "base_uri": "https://localhost:8080/"
        },
        "id": "6nb1n0Ag7Nyu",
        "outputId": "94554271-d9e2-45c9-e6c3-93638e76b18c"
      },
      "execution_count": 72,
      "outputs": [
        {
          "output_type": "stream",
          "name": "stdout",
          "text": [
            "hi ! i am madhuri\n",
            "i live in india,jharkhand\n",
            "i am a studenti am learning DA\n",
            "<built-in method close of _io.TextIOWrapper object at 0x7ac7084bb370>\n"
          ]
        }
      ]
    },
    {
      "cell_type": "code",
      "source": [
        "#write a python program that reads a file and print the number of occurrences of a specific word."
      ],
      "metadata": {
        "id": "fKEzhPZI8BCV"
      },
      "execution_count": null,
      "outputs": []
    },
    {
      "cell_type": "code",
      "source": [
        "file = open(\"file.txt\", \"r\")\n",
        "try:\n",
        "  d1 = dict()\n",
        "  for line in file:\n",
        "    words = line.split()\n",
        "    for word in words:\n",
        "      if word in d1:\n",
        "        d1[word] = d1[word] + 1\n",
        "      else:\n",
        "        d1[word] = 1\n",
        "  print(d1)\n",
        "except:\n",
        "  print(\"file not found\")"
      ],
      "metadata": {
        "colab": {
          "base_uri": "https://localhost:8080/"
        },
        "id": "hdowYYV08rrB",
        "outputId": "41125547-fe20-4ace-fd24-dc987bd7ade3"
      },
      "execution_count": 73,
      "outputs": [
        {
          "output_type": "stream",
          "name": "stdout",
          "text": [
            "{'hi': 1, '!': 1, 'i': 3, 'am': 3, 'madhuri': 1, 'live': 1, 'in': 1, 'india,jharkhand': 1, 'a': 1, 'studenti': 1, 'learning': 1, 'DA': 1}\n"
          ]
        }
      ]
    },
    {
      "cell_type": "code",
      "source": [
        "#how can you check if a file is empty before attempting to read its contents?"
      ],
      "metadata": {
        "id": "xlRo4kK_-rEj"
      },
      "execution_count": null,
      "outputs": []
    },
    {
      "cell_type": "code",
      "source": [
        "    import os\n",
        "\n",
        "    file_path = \"your_file.txt\"\n",
        "\n",
        "    if os.path.exists(file_path): # Check if the file exists first\n",
        "        if os.path.getsize(file_path) == 0:\n",
        "            print(f\"The file '{file_path}' is empty.\")\n",
        "        else:\n",
        "            print(f\"The file '{file_path}' is not empty.\")\n",
        "            # Proceed to read the file contents here\n",
        "            with open(file_path, 'r') as f:\n",
        "                content = f.read()\n",
        "                print(\"File content:\", content)\n",
        "    else:\n",
        "        print(f\"The file '{file_path}' does not exist.\")"
      ],
      "metadata": {
        "colab": {
          "base_uri": "https://localhost:8080/"
        },
        "id": "oxyYQnVo_Npv",
        "outputId": "c047ec36-3cf0-4d93-84f2-ca67c9909b9f"
      },
      "execution_count": 74,
      "outputs": [
        {
          "output_type": "stream",
          "name": "stdout",
          "text": [
            "The file 'your_file.txt' does not exist.\n"
          ]
        }
      ]
    },
    {
      "cell_type": "code",
      "source": [
        "#write a python program that writes to a log file when an error occurs during file handling."
      ],
      "metadata": {
        "id": "krkdI-Mj_uGr"
      },
      "execution_count": null,
      "outputs": []
    },
    {
      "cell_type": "code",
      "source": [
        "import logging\n",
        "import os\n",
        "\n",
        "# Configure the logger\n",
        "# Set up basic configuration for logging to a file named 'file_errors.log'\n",
        "# The level is set to INFO, meaning INFO, WARNING, ERROR, and CRITICAL messages will be logged.\n",
        "# The format includes timestamp, log level, and the message.\n",
        "logging.basicConfig(\n",
        "    filename='file_errors.log',\n",
        "    level=logging.INFO,\n",
        "    format='%(asctime)s - %(levelname)s - %(message)s'\n",
        ")\n",
        "\n",
        "def handle_file_operation(file_path, mode, content=None):\n",
        "\n",
        "    try:\n",
        "        if mode == 'r':\n",
        "            with open(file_path, mode) as f:\n",
        "                data = f.read()\n",
        "                logging.info(f\"Successfully read from '{file_path}'.\")\n",
        "                print(f\"Content of '{file_path}':\\n{data}\")\n",
        "        elif mode == 'w':\n",
        "            with open(file_path, mode) as f:\n",
        "                if content is not None:\n",
        "                    f.write(content)\n",
        "                    logging.info(f\"Successfully wrote to '{file_path}'.\")\n",
        "                else:\n",
        "                    logging.warning(f\"No content provided to write to '{file_path}'.\")\n",
        "        else:\n",
        "            logging.error(f\"Invalid file mode provided: '{mode}'.\")\n",
        "\n",
        "    except FileNotFoundError:\n",
        "        logging.error(f\"Error: File not found at '{file_path}'.\")\n",
        "    except PermissionError:\n",
        "        logging.error(f\"Error: Permission denied to access '{file_path}'.\")\n",
        "    except IOError as e:\n",
        "        logging.error(f\"Error during file operation on '{file_path}': {e}\")\n",
        "    except Exception as e:\n",
        "        logging.critical(f\"An unexpected error occurred: {e}\")\n",
        "\n",
        "\n",
        "\n",
        "\n",
        "handle_file_operation(\"non_existent_file.txt\", 'r')\n",
        "\n",
        "\n",
        "handle_file_operation(\"my_data.txt\", 'w', \"This is some test data.\")\n",
        "\n",
        "\n",
        "handle_file_operation(\"my_data.txt\", 'r')\n",
        "\n",
        "\n",
        "handle_file_operation(\"another_file.txt\", 'x')\n",
        "\n"
      ],
      "metadata": {
        "colab": {
          "base_uri": "https://localhost:8080/"
        },
        "id": "_SS4YA7gAJpL",
        "outputId": "3a495524-d728-471a-a818-55b209285927"
      },
      "execution_count": 75,
      "outputs": [
        {
          "output_type": "stream",
          "name": "stderr",
          "text": [
            "ERROR:root:Error: File not found at 'non_existent_file.txt'.\n",
            "ERROR:root:Invalid file mode provided: 'x'.\n"
          ]
        },
        {
          "output_type": "stream",
          "name": "stdout",
          "text": [
            "Content of 'my_data.txt':\n",
            "This is some test data.\n"
          ]
        }
      ]
    },
    {
      "cell_type": "code",
      "source": [],
      "metadata": {
        "id": "FR4LoJgPAoEm"
      },
      "execution_count": null,
      "outputs": []
    }
  ]
}